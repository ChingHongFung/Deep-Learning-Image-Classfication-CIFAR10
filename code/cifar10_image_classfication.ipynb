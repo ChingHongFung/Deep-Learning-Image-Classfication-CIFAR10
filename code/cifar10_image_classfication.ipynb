{
 "cells": [
  {
   "cell_type": "markdown",
   "id": "1a8395d7",
   "metadata": {},
   "source": [
    "### Image Classfication using Convolutional Neural Network\n",
    "This project looks at a pre-installed and pre-cleaned dataset from the tensorflow package that include 50000 training images spanning classes of {'airplane', 'automobile', 'bird', 'cat', 'deer', 'dog', 'frog', 'horse', 'ship', 'truck'}. The objective is to create a convolutional neural net that implements multi-class classification.\n",
    "\n",
    "Data could be found via: https://www.cs.toronto.edu/~kriz/cifar.html"
   ]
  },
  {
   "cell_type": "markdown",
   "id": "1f9e4e4f",
   "metadata": {},
   "source": [
    "#### 1) Setting up environement and preprocess data\n",
    "\n",
    "I am using tensorflow and keras to carry out most of the modelling and evaluating the results using sklearn."
   ]
  },
  {
   "cell_type": "code",
   "execution_count": 2,
   "id": "05d99e8c",
   "metadata": {},
   "outputs": [],
   "source": [
    "import tensorflow as tf\n",
    "from tensorflow.keras import datasets, layers, models\n",
    "from sklearn.metrics import confusion_matrix, classification_report\n",
    "\n",
    "import numpy as np\n",
    "import matplotlib.pyplot as plt\n",
    "\n",
    "from collections import Counter"
   ]
  },
  {
   "cell_type": "code",
   "execution_count": 3,
   "id": "e74c7931",
   "metadata": {},
   "outputs": [],
   "source": [
    "# Some configuration lines that allow tensorflow GPU to work properly\n",
    "configuration = tf.compat.v1.ConfigProto()\n",
    "configuration.gpu_options.allow_growth = True\n",
    "session = tf.compat.v1.Session(config=configuration)"
   ]
  },
  {
   "cell_type": "code",
   "execution_count": 4,
   "id": "f88ba9f4",
   "metadata": {},
   "outputs": [],
   "source": [
    "# Loading cifar10 dataset from tensorflow pre-installed datasets\n",
    "# Load into separate training and testing datasets.\n",
    "(X_train, y_train), (X_test, y_test) = datasets.cifar10.load_data()"
   ]
  },
  {
   "cell_type": "code",
   "execution_count": 5,
   "id": "88739e93",
   "metadata": {},
   "outputs": [
    {
     "name": "stdout",
     "output_type": "stream",
     "text": [
      "Shape of X_train: (50000, 32, 32, 3)\n",
      "Shape of X_train: (10000, 32, 32, 3)\n",
      "Shape of y_train: (50000, 1)\n",
      "Shape of y_train: (10000, 1)\n"
     ]
    }
   ],
   "source": [
    "# Viewing the dimensions of the sets of features and labels\n",
    "print(f'Shape of X_train: {X_train.shape}')\n",
    "print(f'Shape of X_train: {X_test.shape}')\n",
    "print(f'Shape of y_train: {y_train.shape}')\n",
    "print(f'Shape of y_train: {y_test.shape}')"
   ]
  },
  {
   "cell_type": "code",
   "execution_count": 6,
   "id": "8d7360f1",
   "metadata": {},
   "outputs": [],
   "source": [
    "# Normalising the RGB values.\n",
    "X_train, X_test = X_train/255, X_test/255"
   ]
  },
  {
   "cell_type": "code",
   "execution_count": 7,
   "id": "f6fe4c34",
   "metadata": {},
   "outputs": [
    {
     "name": "stdout",
     "output_type": "stream",
     "text": [
      "Before reshaping\n",
      "[[6]\n",
      " [9]\n",
      " [9]\n",
      " [4]\n",
      " [1]]\n",
      "[[3]\n",
      " [8]\n",
      " [8]\n",
      " [0]\n",
      " [6]]\n",
      "After reshaping\n",
      "[6 9 9 4 1]\n",
      "[3 8 8 0 6]\n"
     ]
    }
   ],
   "source": [
    "# Reshaping the labels from 2D array into 1D\n",
    "print('Before reshaping')\n",
    "print(y_train[:5])\n",
    "print(y_test[:5])\n",
    "y_train, y_test = y_train.reshape(-1,), y_test.reshape(-1,)\n",
    "print('After reshaping')\n",
    "print(y_train[:5])\n",
    "print(y_test[:5])"
   ]
  },
  {
   "cell_type": "code",
   "execution_count": 8,
   "id": "52002982",
   "metadata": {},
   "outputs": [
    {
     "name": "stdout",
     "output_type": "stream",
     "text": [
      "Training data distribution: Counter({6: 5000, 9: 5000, 4: 5000, 1: 5000, 2: 5000, 7: 5000, 8: 5000, 3: 5000, 5: 5000, 0: 5000})\n",
      "Testing data distribution: Counter({3: 1000, 8: 1000, 0: 1000, 6: 1000, 1: 1000, 9: 1000, 5: 1000, 7: 1000, 4: 1000, 2: 1000})\n"
     ]
    }
   ],
   "source": [
    "# Use Counter to see if classes are balanced in the training and testing data\n",
    "freq_train = Counter(y_train)\n",
    "freq_test = Counter(y_test)\n",
    "print(f'Training data distribution: {freq_train}')\n",
    "print(f'Testing data distribution: {freq_test}')"
   ]
  },
  {
   "cell_type": "code",
   "execution_count": 9,
   "id": "65959f41",
   "metadata": {},
   "outputs": [],
   "source": [
    "# List of the labels \n",
    "classes = ['airplane', 'automobile', 'bird', 'cat', 'deer', 'dog', 'frog', 'horse', 'ship', 'truck']"
   ]
  },
  {
   "cell_type": "code",
   "execution_count": 10,
   "id": "125d2603",
   "metadata": {},
   "outputs": [],
   "source": [
    "# Define function that pots the image along with label\n",
    "def plot_sample(X, y, index):\n",
    "    plt.figure(figsize = (2,2))\n",
    "    plt.imshow(X[index])\n",
    "    plt.title(classes[y[index]])"
   ]
  },
  {
   "cell_type": "code",
   "execution_count": 11,
   "id": "9f11e77a",
   "metadata": {},
   "outputs": [
    {
     "data": {
      "image/png": "[encoded data removed]",
      "text/plain": [
       "<Figure size 144x144 with 1 Axes>"
      ]
     },
     "metadata": {
      "needs_background": "light"
     },
     "output_type": "display_data"
    },
    {
     "data": {
      "image/png": "[encoded data removed]",
      "text/plain": [
       "<Figure size 144x144 with 1 Axes>"
      ]
     },
     "metadata": {
      "needs_background": "light"
     },
     "output_type": "display_data"
    },
    {
     "data": {
      "image/png": "[encoded data removed]",
      "text/plain": [
       "<Figure size 144x144 with 1 Axes>"
      ]
     },
     "metadata": {
      "needs_background": "light"
     },
     "output_type": "display_data"
    }
   ],
   "source": [
    "# Plot a few of the training images\n",
    "plot_sample(X_train, y_train, 1)\n",
    "plot_sample(X_train, y_train, 3)\n",
    "plot_sample(X_train, y_train, 5)"
   ]
  },
  {
   "cell_type": "markdown",
   "id": "469eff59",
   "metadata": {},
   "source": [
    "#### 2) Artificial Neural Network\n",
    "\n",
    "First, we attempted to build an artificial neural network with only dense layers to see how well is performs on our datasets. It turned out that accuracy is relatively low even with quite a few layers with a large number of neurons. This goes to show ANN alone is not well-suited for classifying 2D images.\n",
    "\n",
    "Softmax is used at the output layer as it normalises the probability value. This is preferable compared to the sigmoid activation as the output classes in this dataset are mutually exclusive. This means we only care about the highest predicted probability so rescaling the probabilities should not vary our prediction. On the other hand, if we were intereted in multi-label classification (e.g. if we want to label a husky as 'husky', 'pet' and 'dog'), then we would care about the highest few probabilities. In that case, it is better to use sigmoid as it doesn't scale down any probabilities and we could pick labels of probabilities that reach a certain threshold.\n",
    "\n",
    "Adam optimizer is used given its quick convergence rate due to a per-parameter learning rate approach. Sparse categorical crossentropy is used as the labels are encoded in values of 0-9 instead of one-hot encoding. Accuracy is used as the evaluation metric as the dataset CIFAR10 is well-cleaned and balanced between the different classes. This means accuracy could capture the preformance of the model effectively. "
   ]
  },
  {
   "cell_type": "code",
   "execution_count": 12,
   "id": "0f2a147b",
   "metadata": {},
   "outputs": [],
   "source": [
    "# Initialise a sequential object\n",
    "ann = models.Sequential([\n",
    "    layers.Flatten(input_shape=(32,32,3)),   # Flatten the feature values (32*32*3) into a flat vector of values\n",
    "    layers.Dense(3000, activation='relu'),   # Relu activation for hidden layers\n",
    "    layers.Dense(1000, activation='relu'),\n",
    "    layers.Dense(10, activation='softmax')   # Softmax activation to normalise probability\n",
    "])"
   ]
  },
  {
   "cell_type": "code",
   "execution_count": 13,
   "id": "08451fba",
   "metadata": {},
   "outputs": [],
   "source": [
    "# Compile the model with selected optimisation scheme, loss function adn evaluation metrics\n",
    "ann.compile(optimizer='adam', \n",
    "           loss='sparse_categorical_crossentropy',\n",
    "           metrics=['accuracy'])"
   ]
  },
  {
   "cell_type": "code",
   "execution_count": 14,
   "id": "d4509dad",
   "metadata": {},
   "outputs": [
    {
     "name": "stdout",
     "output_type": "stream",
     "text": [
      "Model: \"sequential\"\n",
      "_________________________________________________________________\n",
      "Layer (type)                 Output Shape              Param #   \n",
      "=================================================================\n",
      "flatten (Flatten)            (None, 3072)              0         \n",
      "_________________________________________________________________\n",
      "dense (Dense)                (None, 3000)              9219000   \n",
      "_________________________________________________________________\n",
      "dense_1 (Dense)              (None, 1000)              3001000   \n",
      "_________________________________________________________________\n",
      "dense_2 (Dense)              (None, 10)                10010     \n",
      "=================================================================\n",
      "Total params: 12,230,010\n",
      "Trainable params: 12,230,010\n",
      "Non-trainable params: 0\n",
      "_________________________________________________________________\n"
     ]
    }
   ],
   "source": [
    "# Display a summary of the ANN model\n",
    "ann.summary()"
   ]
  },
  {
   "cell_type": "code",
   "execution_count": 15,
   "id": "829f7ce8",
   "metadata": {},
   "outputs": [
    {
     "name": "stdout",
     "output_type": "stream",
     "text": [
      "Train on 50000 samples\n",
      "Epoch 1/10\n",
      "50000/50000 [==============================] - 16s 318us/sample - loss: 1.8831 - accuracy: 0.3285\n",
      "Epoch 2/10\n",
      "50000/50000 [==============================] - 14s 270us/sample - loss: 1.6507 - accuracy: 0.4083\n",
      "Epoch 3/10\n",
      "50000/50000 [==============================] - 14s 272us/sample - loss: 1.5658 - accuracy: 0.4398\n",
      "Epoch 4/10\n",
      "50000/50000 [==============================] - 14s 273us/sample - loss: 1.5218 - accuracy: 0.4558\n",
      "Epoch 5/10\n",
      "50000/50000 [==============================] - 14s 280us/sample - loss: 1.4911 - accuracy: 0.4667\n",
      "Epoch 6/10\n",
      "50000/50000 [==============================] - 14s 284us/sample - loss: 1.4577 - accuracy: 0.4798\n",
      "Epoch 7/10\n",
      "50000/50000 [==============================] - 15s 292us/sample - loss: 1.4325 - accuracy: 0.4865\n",
      "Epoch 8/10\n",
      "50000/50000 [==============================] - 15s 296us/sample - loss: 1.4033 - accuracy: 0.4985\n",
      "Epoch 9/10\n",
      "50000/50000 [==============================] - 16s 316us/sample - loss: 1.3884 - accuracy: 0.5041\n",
      "Epoch 10/10\n",
      "50000/50000 [==============================] - 17s 332us/sample - loss: 1.3653 - accuracy: 0.5109\n"
     ]
    },
    {
     "data": {
      "text/plain": [
       "<tensorflow.python.keras.callbacks.History at 0x2619cc5c588>"
      ]
     },
     "execution_count": 15,
     "metadata": {},
     "output_type": "execute_result"
    }
   ],
   "source": [
    "# Fit the model to training data to train the parameters\n",
    "ann.fit(X_train, y_train, epochs=10)"
   ]
  },
  {
   "cell_type": "code",
   "execution_count": 16,
   "id": "8ebdb7d8",
   "metadata": {},
   "outputs": [
    {
     "name": "stdout",
     "output_type": "stream",
     "text": [
      "10000/10000 [==============================] - 2s 189us/sample - loss: 1.4954 - accuracy: 0.4813\n",
      "Testing loss: 1.49542753200531\n",
      "Testing accuracy: 0.4812999963760376\n"
     ]
    }
   ],
   "source": [
    "# Evaluate the performance of the model using the test set\n",
    "test_loss, test_accuracy = ann.evaluate(X_test, y_test)\n",
    "print(f'Testing loss: {test_loss}')\n",
    "print(f'Testing accuracy: {test_accuracy}')"
   ]
  },
  {
   "cell_type": "code",
   "execution_count": 17,
   "id": "00004bf9",
   "metadata": {},
   "outputs": [
    {
     "name": "stdout",
     "output_type": "stream",
     "text": [
      "ANN Classfication Report: \n",
      "               precision    recall  f1-score   support\n",
      "\n",
      "           0       0.65      0.44      0.52      1000\n",
      "           1       0.66      0.53      0.59      1000\n",
      "           2       0.39      0.33      0.36      1000\n",
      "           3       0.34      0.28      0.31      1000\n",
      "           4       0.43      0.38      0.40      1000\n",
      "           5       0.33      0.52      0.41      1000\n",
      "           6       0.42      0.72      0.53      1000\n",
      "           7       0.61      0.49      0.55      1000\n",
      "           8       0.59      0.65      0.62      1000\n",
      "           9       0.60      0.47      0.53      1000\n",
      "\n",
      "    accuracy                           0.48     10000\n",
      "   macro avg       0.50      0.48      0.48     10000\n",
      "weighted avg       0.50      0.48      0.48     10000\n",
      "\n"
     ]
    }
   ],
   "source": [
    "# Make predictions for the testing dataset using the ANN model and evaluate its precision, recall and f1-score\n",
    "y_pred = ann.predict(X_test)\n",
    "y_pred_classes = [np.argmax(element) for element in y_pred]\n",
    "print('ANN Classfication Report: \\n', classification_report(y_test, y_pred_classes))"
   ]
  },
  {
   "cell_type": "code",
   "execution_count": 18,
   "id": "960aef80",
   "metadata": {},
   "outputs": [
    {
     "data": {
      "text/plain": [
       "<BarContainer object of 10 artists>"
      ]
     },
     "execution_count": 18,
     "metadata": {},
     "output_type": "execute_result"
    },
    {
     "data": {
      "image/png": "[encoded data removed]",
      "text/plain": [
       "<Figure size 432x288 with 1 Axes>"
      ]
     },
     "metadata": {
      "needs_background": "light"
     },
     "output_type": "display_data"
    }
   ],
   "source": [
    "# Plot the predicted frequency of each class\n",
    "pred_freq = Counter(y_pred_classes)\n",
    "plt.bar(pred_freq.keys(), pred_freq.values())"
   ]
  },
  {
   "cell_type": "markdown",
   "id": "b25d525e",
   "metadata": {},
   "source": [
    "For a small number of epochs of 10, it is shown that precision, recall and f1-score for all ten classes remain relatively low. This is because ANN is unable to pick up local features and patterns such as edges, shapes colours within the 2D images as all the RGB values are flattened into a long vector. Feature extraction requires specific kernels be applied locally to extract finer information within the 2D image domain. This could only be done using convolutional layers"
   ]
  },
  {
   "cell_type": "markdown",
   "id": "46dd7ae2",
   "metadata": {},
   "source": [
    "#### 3) Convolutional Neural Network\n",
    "\n",
    "For image classification problems, it is best to use convolutional neural network for better feature extraction. The training data would first go through layers of convolution layers where each layer captures information of the images in different order of details from edges to shapes to larger objects.\n",
    "\n",
    "Using convolution with pooling allows location-invariant feature detection as the pooling process reduces the dimension of the feature domain allowing convolution te depcit larger features no matter the position of the obejct. Pooling also reduces the issue of overfitting so the model generalises well to the testing data.\n",
    "\n",
    "The first Conv2D+MaxPooling2D layer uses 32 filters of kernel size (3,3) to pick up simple features like sharp/smooth edges and colour changes. The size ensures fine-grain changes could be captured. Max pooling then compresses the features for a second Conv2D+MaxPooling2D layer. This time round, 64 filters allow more specific components to be depicted such as shapes like vehicle wheels, animal tails, background patterns etc. After feature extraction, the model then feeds into a dense layers for classfication purposes."
   ]
  },
  {
   "cell_type": "code",
   "execution_count": 19,
   "id": "e03651ed",
   "metadata": {},
   "outputs": [],
   "source": [
    "# Initialise a sequantial object\n",
    "cnn = models.Sequential([\n",
    "    # First layer of convolution plus max pooling\n",
    "    layers.Conv2D(filters=32, kernel_size=(3,3), activation='relu', input_shape=([32,32,3])),\n",
    "    layers.MaxPooling2D(pool_size=(2,2)),   \n",
    "    # Second layer of convolution plus max pooling        \n",
    "    layers.Conv2D(filters=64, kernel_size=(3,3), activation='relu'),\n",
    "    layers.MaxPooling2D(pool_size=(2,2)),\n",
    "    # Flatten then dense layers             \n",
    "    layers.Flatten(),\n",
    "    layers.Dense(64, activation='relu'),\n",
    "    layers.Dense(10, activation='softmax') # Softmax activation to normalise probability\n",
    "])"
   ]
  },
  {
   "cell_type": "code",
   "execution_count": 20,
   "id": "0d9e913c",
   "metadata": {},
   "outputs": [],
   "source": [
    "# Compile the model with selected optimisation scheme, loss function adn evaluation metrics\n",
    "cnn.compile(optimizer='adam',\n",
    "             loss='sparse_categorical_crossentropy',\n",
    "             metrics=['accuracy'])"
   ]
  },
  {
   "cell_type": "code",
   "execution_count": 21,
   "id": "094fefd5",
   "metadata": {},
   "outputs": [
    {
     "name": "stdout",
     "output_type": "stream",
     "text": [
      "Model: \"sequential_1\"\n",
      "_________________________________________________________________\n",
      "Layer (type)                 Output Shape              Param #   \n",
      "=================================================================\n",
      "conv2d (Conv2D)              (None, 30, 30, 32)        896       \n",
      "_________________________________________________________________\n",
      "max_pooling2d (MaxPooling2D) (None, 15, 15, 32)        0         \n",
      "_________________________________________________________________\n",
      "conv2d_1 (Conv2D)            (None, 13, 13, 64)        18496     \n",
      "_________________________________________________________________\n",
      "max_pooling2d_1 (MaxPooling2 (None, 6, 6, 64)          0         \n",
      "_________________________________________________________________\n",
      "flatten_1 (Flatten)          (None, 2304)              0         \n",
      "_________________________________________________________________\n",
      "dense_3 (Dense)              (None, 64)                147520    \n",
      "_________________________________________________________________\n",
      "dense_4 (Dense)              (None, 10)                650       \n",
      "=================================================================\n",
      "Total params: 167,562\n",
      "Trainable params: 167,562\n",
      "Non-trainable params: 0\n",
      "_________________________________________________________________\n"
     ]
    }
   ],
   "source": [
    "# Display a summary of the CNN model\n",
    "cnn.summary()"
   ]
  },
  {
   "cell_type": "code",
   "execution_count": null,
   "id": "dd47c27b",
   "metadata": {},
   "outputs": [
    {
     "name": "stdout",
     "output_type": "stream",
     "text": [
      "Train on 50000 samples\n",
      "Epoch 1/10\n",
      "50000/50000 [==============================] - 15s 300us/sample - loss: 1.4646 - accuracy: 0.4743\n",
      "Epoch 2/10\n",
      "50000/50000 [==============================] - 8s 166us/sample - loss: 1.1148 - accuracy: 0.6097 - loss: 1.1154 - accuracy: 0.\n",
      "Epoch 3/10\n",
      "50000/50000 [==============================] - 8s 163us/sample - loss: 0.9884 - accuracy: 0.6570\n",
      "Epoch 4/10\n",
      "50000/50000 [==============================] - 8s 166us/sample - loss: 0.9064 - accuracy: 0.6846\n",
      "Epoch 5/10\n",
      "50000/50000 [==============================] - 9s 170us/sample - loss: 0.8419 - accuracy: 0.7070\n",
      "Epoch 6/10\n",
      "50000/50000 [==============================] - 8s 166us/sample - loss: 0.7946 - accuracy: 0.7228\n",
      "Epoch 7/10\n",
      "50000/50000 [==============================] - 10s 196us/sample - loss: 0.7500 - accuracy: 0.7396\n",
      "Epoch 8/10\n",
      "11008/50000 [=====>........................] - ETA: 7s - loss: 0.6662 - accuracy: 0.7617"
     ]
    }
   ],
   "source": [
    "# Fit the model to training data to train the parameters\n",
    "cnn.fit(X_train, y_train, epochs=10)"
   ]
  },
  {
   "cell_type": "code",
   "execution_count": null,
   "id": "ebcb7183",
   "metadata": {},
   "outputs": [],
   "source": [
    "# Evaluate the performance of the model using the test set\n",
    "test_loss, test_accuracy = cnn.evaluate(X_test, y_test)\n",
    "print(f'Testing loss: {test_loss}')\n",
    "print(f'Testing accuracy: {test_accuracy}')"
   ]
  },
  {
   "cell_type": "code",
   "execution_count": null,
   "id": "1ab0e4ed",
   "metadata": {},
   "outputs": [],
   "source": [
    "# Make predictions for the testing dataset using the ANN model and evaluate its precision, recall and f1-score\n",
    "y_pred = cnn.predict(X_test)\n",
    "y_pred_classes = [np.argmax(element) for element in y_pred]\n",
    "print('Classfication Report: \\n', classification_report(y_test, y_pred_classes))"
   ]
  },
  {
   "cell_type": "code",
   "execution_count": null,
   "id": "5ba672b8",
   "metadata": {},
   "outputs": [],
   "source": [
    "# Plot the predicted frequency of each class\n",
    "pred_freq = Counter(y_pred_classes)\n",
    "plt.bar(pred_freq.keys(), pred_freq.values())"
   ]
  },
  {
   "cell_type": "markdown",
   "id": "a62d19fb",
   "metadata": {},
   "source": [
    "It is clear from the classification report that the evaluation metrics have imporved tremenedously using a CNN with the same number of epochs. Given that we are trying to perform multi-class classfication of 10 classes with a modest dataset of 50000 training images of pixel resolution 32by32 times 3(RGB intensities), our model with only small amount of fine-tuning and epochs have preformed relatively well."
   ]
  },
  {
   "cell_type": "markdown",
   "id": "0517f9cf",
   "metadata": {},
   "source": [
    "#### 4) Future work\n",
    "\n",
    "After this brief project, we could next look at a more complex dataset CIFAR-100 dataset (provided at the same link as this dataset). That project will be more complex as it entails classfication for 100 classes including superclass and subclasses (essentially a multi-label problem)."
   ]
  },
  {
   "cell_type": "code",
   "execution_count": null,
   "id": "8303e132",
   "metadata": {},
   "outputs": [],
   "source": []
  }
 ],
 "metadata": {
  "kernelspec": {
   "display_name": "Python 3 (ipykernel)",
   "language": "python",
   "name": "python3"
  },
  "language_info": {
   "codemirror_mode": {
    "name": "ipython",
    "version": 3
   },
   "file_extension": ".py",
   "mimetype": "text/x-python",
   "name": "python",
   "nbconvert_exporter": "python",
   "pygments_lexer": "ipython3",
   "version": "3.7.9"
  }
 },
 "nbformat": 4,
 "nbformat_minor": 5
}
